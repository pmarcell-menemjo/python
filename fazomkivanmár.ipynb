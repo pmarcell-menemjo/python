{
 "cells": [
  {
   "cell_type": "code",
   "execution_count": 2,
   "id": "ab005059",
   "metadata": {},
   "outputs": [
    {
     "name": "stdout",
     "output_type": "stream",
     "text": [
      "[21, 25, 23, 24, 41, 41, 17, 39, 6, 3, 26, 43, 9, 6, 36, 42, 50, 23, 14, 27, 44, 18, 42, 35, 14, 1, 35, 28, 25, 6, 35, 47, 22, 14, 22, 34, 21, 27, 49, 17, 16, 37, 34, 36, 21, 27, 43, 12, 19, 18, 1, 47, 31, 45, 1, 38, 29, 9, 23, 46, 38, 2, 7, 17, 38, 7, 14, 49, 3, 22, 16, 9, 19, 44, 3, 35, 29, 21, 44, 11, 24, 3, 15, 24, 45, 20, 48, 24, 38, 11, 5, 42, 25, 1, 26, 32, 17, 25, 41, 45]\n",
      "[24, 6, 26, 6, 36, 42, 50, 14, 44, 18, 42, 14, 28, 6, 22, 14, 22, 34, 16, 34, 36, 12, 18, 38, 46, 38, 2, 38, 14, 22, 16, 44, 44, 24, 24, 20, 48, 24, 38, 42, 26, 32]\n",
      "Ennyi páros szám van: 42 \n",
      "21 23 24 17 3 26 6 36 42 14 27 18 1 6 35 14 22 21 27 16 34 21 27 12 1 31 1 9 23 2 7 17 7 14 3 9 19 3 21 11 3 15 24 20 24 5 1 26 17 25 41 "
     ]
    }
   ],
   "source": [
    "import random\n",
    "tomb=[random.randint(1,50)]\n",
    "tomb2=[]\n",
    "n=0\n",
    "for i in range(1,100):\n",
    "    tomb.append(random.randint(1,50))\n",
    "print(tomb)\n",
    "\n",
    "for i in tomb:\n",
    "    if (i%2==0):\n",
    "        tomb2.append(i)\n",
    "        n+=1\n",
    "print(tomb2)\n",
    "print(\"Ennyi páros szám van: %d \" %n)\n",
    "\n",
    "for j in range (len(tomb)-1):\n",
    "    if tomb[j]<tomb[j+1]:\n",
    "        print(tomb[j], end=\" \")\n"
   ]
  },
  {
   "cell_type": "code",
   "execution_count": 18,
   "id": "fd45b06b",
   "metadata": {},
   "outputs": [
    {
     "name": "stdout",
     "output_type": "stream",
     "text": [
      "[37, -21, 19, -48, -32, 12, 0, -44, 26, -1, -31, -18, -49, 12, -40, -26, -15, -45, -21, -26, 26, 3, -4, 44, 36, -5, 3, 36, 7, -9, 37, 5, -40, -36, 38, 42, -24, 18, 14, -21, 42, 48, -37, -1, -14, -11, 40, 37, 42, 46, -26, -42, 2, 28, -22, -2, 39, -11, 9, -35, -41, -10, -37, 15, 47, 28, 15, 12, 16, -2, 27, 42, -18, 37, -10, -49, -35, 1, -19, 29, 15, 46, -43, -14, 48, -24, 38, -14, -8, -7, 36, 42, -10, -7, 34, -36, -11, -25, -8, 23, -30]\n",
      "[37, 21, 19, 48, 32, 12, 0, 44, 26, 1, 31, 18, 49, 12, 40, 26, 15, 45, 21, 26, 26, 3, 4, 44, 36, 5, 3, 36, 7, 9, 37, 5, 40, 36, 38, 42, 24, 18, 14, 21, 42, 48, 37, 1, 14, 11, 40, 37, 42, 46, 26, 42, 2, 28, 22, 2, 39, 11, 9, 35, 41, 10, 37, 15, 47, 28, 15, 12, 16, 2, 27, 42, 18, 37, 10, 49, 35, 1, 19, 29, 15, 46, 43, 14, 48, 24, 38, 14, 8, 7, 36, 42, 10, 7, 34, 36, 11, 25, 8, 23, 30]\n"
     ]
    }
   ],
   "source": [
    "import random\n",
    "tomb=[random.randint(-50,50)]\n",
    "for i in range(100):\n",
    "    tomb.append(random.randint(-50,50))\n",
    "print(tomb)\n",
    "\n",
    "for i in range(len(tomb)):\n",
    "    if tomb[i]<0:\n",
    "        tomb[i]=abs(tomb[i])\n",
    "print(tomb)"
   ]
  },
  {
   "cell_type": "code",
   "execution_count": 22,
   "id": "bac90123",
   "metadata": {},
   "outputs": [
    {
     "name": "stdout",
     "output_type": "stream",
     "text": [
      "[44, -5, 46, 33, 41, 7, 11, 49, -49, 39, -34, -11, -12, 4, -11, 41, -47, -36, 28, 32, 45, 15, 16, 4, 26, 9, 17, 2, -13, -23, 47, 2, -30, -13, -28, -50, -24, -28, -32, -11, 34, 40, -3, -20, -2, -10, -5, 14, 40, 49, 19, -19, -41, -15, 10, 18, -10, 46, -10, 35, 36, 26, -22, 21, -40, -20, -30, 29, 30, 47, -25, 8, -24, 36, -14, 44, 12, 47, -40, -21, 4, -33, -40, -33, -41, -38, -30, 33, 10, 36, -47, -48, 12, 7, 0, 27, 45, -36, 47, -10, 2]\n",
      "-5 -49 -11 -11 -47 -13 -23 -13 -11 -3 -5 -19 -41 -15 -25 -21 -33 -33 -41 -47 "
     ]
    }
   ],
   "source": [
    "import random\n",
    "tomb=[random.randint(-50,50)]\n",
    "for i in range(100):\n",
    "    tomb.append(random.randint(-50,50))\n",
    "print(tomb)\n",
    "\n",
    "for i in range(len(tomb)):\n",
    "    if tomb[i]<0:\n",
    "        if tomb[i]%2 != 0:\n",
    "            print(tomb[i], end=\" \")"
   ]
  },
  {
   "cell_type": "code",
   "execution_count": 25,
   "id": "4e9a4379",
   "metadata": {},
   "outputs": [
    {
     "name": "stdout",
     "output_type": "stream",
     "text": [
      "Adj meg egy számot: 4\n",
      "Adj meg egy számot: 6\n",
      "Adj meg egy számot: 12\n",
      "Adj meg egy számot: 65\n",
      "Adj meg egy számot: 31\n",
      "Adj meg egy számot: 42\n",
      "Adj meg egy számot: 13\n",
      "Adj meg egy számot: 34\n",
      "Adj meg egy számot: 1\n",
      "Adj meg egy számot: 2\n",
      "[4, 6, 12, 65, 31, 42, 13, 34, 1, 2]\n"
     ]
    }
   ],
   "source": [
    "eredeti=[]\n",
    "sor=[]\n",
    "\n",
    "for szamok in range(10):\n",
    "    szamok=int(input(\"Adj meg egy számot: \"))\n",
    "    eredeti.append(szamok)\n",
    "print(eredeti)\n"
   ]
  },
  {
   "cell_type": "code",
   "execution_count": null,
   "id": "d9989bf1",
   "metadata": {},
   "outputs": [],
   "source": []
  }
 ],
 "metadata": {
  "kernelspec": {
   "display_name": "Python 3 (ipykernel)",
   "language": "python",
   "name": "python3"
  },
  "language_info": {
   "codemirror_mode": {
    "name": "ipython",
    "version": 3
   },
   "file_extension": ".py",
   "mimetype": "text/x-python",
   "name": "python",
   "nbconvert_exporter": "python",
   "pygments_lexer": "ipython3",
   "version": "3.9.7"
  }
 },
 "nbformat": 4,
 "nbformat_minor": 5
}
